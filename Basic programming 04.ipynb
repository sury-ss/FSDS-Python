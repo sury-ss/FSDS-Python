{
 "cells": [
  {
   "cell_type": "code",
   "execution_count": 1,
   "id": "c7967a63",
   "metadata": {},
   "outputs": [
    {
     "name": "stdout",
     "output_type": "stream",
     "text": [
      "120\n"
     ]
    }
   ],
   "source": [
    "#1.Write a Python Program to Find the Factorial of a Number?\n",
    "a=5 #int(input())\n",
    "prod=1\n",
    "for i in range (1,a+1):\n",
    "    prod=prod*i\n",
    "print(prod)"
   ]
  },
  {
   "cell_type": "code",
   "execution_count": 2,
   "id": "69bf20db",
   "metadata": {},
   "outputs": [
    {
     "name": "stdout",
     "output_type": "stream",
     "text": [
      "1 x 5 = 5\n",
      "2 x 5 = 10\n",
      "3 x 5 = 15\n",
      "4 x 5 = 20\n",
      "5 x 5 = 25\n",
      "6 x 5 = 30\n",
      "7 x 5 = 35\n",
      "8 x 5 = 40\n",
      "9 x 5 = 45\n",
      "10 x 5 = 50\n"
     ]
    }
   ],
   "source": [
    "#2. Write a Python Program to Display the multiplication Table?\n",
    "a=5 #int(input())\n",
    "for i in range (1,11):\n",
    "    mul=i*a\n",
    "    print(\"{} x {} = {}\".format(i,a,mul))"
   ]
  },
  {
   "cell_type": "code",
   "execution_count": 3,
   "id": "f1d283d0",
   "metadata": {},
   "outputs": [
    {
     "name": "stdout",
     "output_type": "stream",
     "text": [
      "1\n",
      "1\n",
      "2\n",
      "3\n",
      "5\n",
      "8\n",
      "13\n",
      "21\n",
      "34\n",
      "55\n"
     ]
    }
   ],
   "source": [
    "#3. Write a Python Program to Print the Fibonacci sequence?\n",
    "length=10 #int(input())\n",
    "a=0\n",
    "b=1\n",
    "print(b)\n",
    "for i in range(1,length):\n",
    "    c=a+b\n",
    "    a=b\n",
    "    b=c\n",
    "    print(c)  "
   ]
  },
  {
   "cell_type": "code",
   "execution_count": 4,
   "id": "97d203a0",
   "metadata": {},
   "outputs": [
    {
     "name": "stdout",
     "output_type": "stream",
     "text": [
      "153 is a Armstrong Number\n"
     ]
    }
   ],
   "source": [
    "#4. Write a Python Program to Check Armstrong Number?\n",
    "\n",
    "def isamstrong(num):\n",
    "    sum = 0\n",
    "    temp = num\n",
    "    while temp > 0:\n",
    "        digit = temp % 10\n",
    "        sum += digit ** 3\n",
    "        temp //= 10\n",
    "    if num == sum:\n",
    "        return True\n",
    "    else:\n",
    "        return False\n",
    "\n",
    "n =153# int(input(\"Enter a number: \"))\n",
    "if isamstrong(n):\n",
    "    print(\"{} is a Armstrong Number\".format(n))\n",
    "else:\n",
    "    print(\"{} is not a Armstrong Number\".format(n))"
   ]
  },
  {
   "cell_type": "code",
   "execution_count": 5,
   "id": "fa34e7af",
   "metadata": {},
   "outputs": [
    {
     "name": "stdout",
     "output_type": "stream",
     "text": [
      "1\n",
      "153\n",
      "370\n",
      "371\n",
      "407\n"
     ]
    }
   ],
   "source": [
    "#5. Write a Python Program to Find Armstrong Number in an Interval?\n",
    "def isarmstrong(num):\n",
    "    sum = 0\n",
    "    temp = num\n",
    "    while temp > 0:\n",
    "        digit = temp % 10\n",
    "        sum += digit ** 3\n",
    "        temp //= 10\n",
    "    if num == sum:\n",
    "        return True\n",
    "    else:\n",
    "        return False\n",
    "\n",
    "start=1 #int(input())\n",
    "end=1000 #int(input())\n",
    "for i in range (start,end+1):\n",
    "    if isarmstrong(i):\n",
    "        print(i)"
   ]
  },
  {
   "cell_type": "code",
   "execution_count": 6,
   "id": "c7f933d6",
   "metadata": {},
   "outputs": [
    {
     "name": "stdout",
     "output_type": "stream",
     "text": [
      "15\n"
     ]
    }
   ],
   "source": [
    "#6. Write a Python Program to Find the Sum of Natural Numbers?\n",
    "num=5 #int(input())\n",
    "sum=0\n",
    "if(num<=0):\n",
    "    print(\"Enter the correct Number\")\n",
    "else:\n",
    "    while(num>0):\n",
    "        sum=sum+num\n",
    "        num=num-1\n",
    "print(sum)        "
   ]
  }
 ],
 "metadata": {
  "kernelspec": {
   "display_name": "Python 3 (ipykernel)",
   "language": "python",
   "name": "python3"
  },
  "language_info": {
   "codemirror_mode": {
    "name": "ipython",
    "version": 3
   },
   "file_extension": ".py",
   "mimetype": "text/x-python",
   "name": "python",
   "nbconvert_exporter": "python",
   "pygments_lexer": "ipython3",
   "version": "3.9.7"
  }
 },
 "nbformat": 4,
 "nbformat_minor": 5
}
