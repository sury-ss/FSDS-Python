{
 "cells": [
  {
   "cell_type": "code",
   "execution_count": 1,
   "id": "3d19ebd1",
   "metadata": {},
   "outputs": [
    {
     "name": "stdout",
     "output_type": "stream",
     "text": [
      "10 is a postive Number\n"
     ]
    }
   ],
   "source": [
    "#1.Write a Python Program to Check if a Number is Positive, Negative or Zero?\n",
    "a=10 #int(input())\n",
    "if a>0:\n",
    "    print(\"{} is a postive Number\".format(a))\n",
    "else:\n",
    "    print(\"{} is a negative number\".format(a))"
   ]
  },
  {
   "cell_type": "code",
   "execution_count": 2,
   "id": "8a6e07f8",
   "metadata": {},
   "outputs": [
    {
     "name": "stdout",
     "output_type": "stream",
     "text": [
      "10 is a even Number\n"
     ]
    }
   ],
   "source": [
    "#2. Write a Python Program to Check if a Number is Odd or Even?\n",
    "a=10 #int(input())\n",
    "if(a%2)==0:\n",
    "    print(\"{} is a even Number\".format(a))\n",
    "else:\n",
    "    print(\"{} is a odd number\".format(a))"
   ]
  },
  {
   "cell_type": "code",
   "execution_count": 3,
   "id": "c1ec57fe",
   "metadata": {},
   "outputs": [
    {
     "name": "stdout",
     "output_type": "stream",
     "text": [
      "2000 is a leap year\n"
     ]
    }
   ],
   "source": [
    "#3. Write a Python Program to Check Leap Year?\n",
    "year = 2000 #int(input())\n",
    "if (year % 4) == 0:\n",
    "    if (year % 100) == 0:\n",
    "        if (year % 400) == 0:\n",
    "            print(\"{0} is a leap year\".format(year))\n",
    "        else:\n",
    "            print(\"{0} is not a leap year\".format(year))\n",
    "    else:\n",
    "        print(\"{0} is a leap year\".format(year))\n",
    "else:\n",
    "    print(\"{0} is not a leap year\".format(year))\n"
   ]
  },
  {
   "cell_type": "code",
   "execution_count": 4,
   "id": "ea1f9f25",
   "metadata": {},
   "outputs": [
    {
     "name": "stdout",
     "output_type": "stream",
     "text": [
      "Prime Number\n"
     ]
    }
   ],
   "source": [
    "#4. Write a Python Program to Check Prime Number?\n",
    "def isprime(a):\n",
    "    for i in range(2,a):\n",
    "        if(a%i)==0:\n",
    "            return False\n",
    "    return True\n",
    "    \n",
    "a=7 #int(input())\n",
    "if isprime(a):\n",
    "    print(\"Prime Number\")\n",
    "else:\n",
    "    print(\"Not prime Number\")    "
   ]
  },
  {
   "cell_type": "code",
   "execution_count": 5,
   "id": "8c643897",
   "metadata": {},
   "outputs": [
    {
     "name": "stdout",
     "output_type": "stream",
     "text": [
      "[2, 3, 5, 7, 11, 13, 17, 19, 23, 29, 31, 37, 41, 43, 47, 53, 59, 61, 67, 71, 73, 79, 83, 89, 97, 101, 103, 107, 109, 113, 127, 131, 137, 139, 149, 151, 157, 163, 167, 173, 179, 181, 191, 193, 197, 199, 211, 223, 227, 229, 233, 239, 241, 251, 257, 263, 269, 271, 277, 281, 283, 293, 307, 311, 313, 317, 331, 337, 347, 349, 353, 359, 367, 373, 379, 383, 389, 397, 401, 409, 419, 421, 431, 433, 439, 443, 449, 457, 461, 463, 467, 479, 487, 491, 499, 503, 509, 521, 523, 541, 547, 557, 563, 569, 571, 577, 587, 593, 599, 601, 607, 613, 617, 619, 631, 641, 643, 647, 653, 659, 661, 673, 677, 683, 691, 701, 709, 719, 727, 733, 739, 743, 751, 757, 761, 769, 773, 787, 797, 809, 811, 821, 823, 827, 829, 839, 853, 857, 859, 863, 877, 881, 883, 887, 907, 911, 919, 929, 937, 941, 947, 953, 967, 971, 977, 983, 991, 997]\n"
     ]
    }
   ],
   "source": [
    "#5. Write a Python Program to Print all Prime Numbers in an Interval of 1-10000?\n",
    "def isprime(a):\n",
    "    for i in range(2,a):\n",
    "        if(a%i)==0:\n",
    "            return False\n",
    "    return True\n",
    "\n",
    "l=[]\n",
    "for i in range (2,1000):\n",
    "    if isprime(i):\n",
    "        l.append(i)        \n",
    "print(l)"
   ]
  },
  {
   "cell_type": "code",
   "execution_count": null,
   "id": "7e73d7d5",
   "metadata": {},
   "outputs": [],
   "source": []
  }
 ],
 "metadata": {
  "kernelspec": {
   "display_name": "Python 3 (ipykernel)",
   "language": "python",
   "name": "python3"
  },
  "language_info": {
   "codemirror_mode": {
    "name": "ipython",
    "version": 3
   },
   "file_extension": ".py",
   "mimetype": "text/x-python",
   "name": "python",
   "nbconvert_exporter": "python",
   "pygments_lexer": "ipython3",
   "version": "3.9.7"
  }
 },
 "nbformat": 4,
 "nbformat_minor": 5
}
