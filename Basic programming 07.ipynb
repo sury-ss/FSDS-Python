{
 "cells": [
  {
   "cell_type": "code",
   "execution_count": 1,
   "id": "38ca1c84",
   "metadata": {},
   "outputs": [
    {
     "name": "stdout",
     "output_type": "stream",
     "text": [
      "Number of elements in the array: 3\n",
      "elements of array: 10 20 20\n",
      "50\n"
     ]
    }
   ],
   "source": [
    "#Write a Python Program to find sum of array?\n",
    "b=int(input(\"Number of elements in the array: \"))\n",
    "arr=list(map(int, input(\"elements of array: \"). strip(). split()))\n",
    "sum=0\n",
    "for i in range(0,len(arr)):\n",
    "    sum=sum+arr[i]\n",
    "print(sum)"
   ]
  },
  {
   "cell_type": "code",
   "execution_count": 2,
   "id": "8976fde1",
   "metadata": {},
   "outputs": [
    {
     "name": "stdout",
     "output_type": "stream",
     "text": [
      "Number of elements in the array: 3\n",
      "elements of array: 20 20  20\n",
      "20\n"
     ]
    }
   ],
   "source": [
    "#Write a Python Program to find largest element in an array?\n",
    "a=int(input(\"Number of elements in the array: \"))\n",
    "n=list(map(int, input(\"elements of array: \"). strip(). split()))\n",
    "max=n[0]\n",
    "for i in range(1,len(n)):\n",
    "    if(max)<n[i]:\n",
    "        max=n[i]\n",
    "print(max)"
   ]
  },
  {
   "cell_type": "code",
   "execution_count": 3,
   "id": "40fa635e",
   "metadata": {},
   "outputs": [
    {
     "name": "stdout",
     "output_type": "stream",
     "text": [
      "Enter the number of elements in an array5\n",
      "1\n",
      "2\n",
      "3\n",
      "4\n",
      "5\n",
      "[1, 2, 3, 4, 5]\n",
      "Enter rotation count: 2\n",
      "The elements after roation:\n",
      "3 4 5 1 2 "
     ]
    }
   ],
   "source": [
    "#Write a Python Program for array rotation?\n",
    "def rotateArrayLeft(arr, R, n):\n",
    "    for i in range(R):\n",
    "        firstVal = arr[0]\n",
    "        for i in range(n-1):\n",
    "            arr[i] = arr[i+1]\n",
    "        arr[n-1] = firstVal\n",
    "n=int(input(\"Enter the number of elements in an array\"))\n",
    "arr=[]\n",
    "for i in range(0,n):\n",
    "    numbers=int(input())\n",
    "    arr.append(numbers)\n",
    "print(arr)\n",
    "R = int(input(\"Enter rotation count: \"))\n",
    "rotateArrayLeft(arr,R,n)\n",
    "print(\"The elements after roation:\")\n",
    "for i in range (n):\n",
    "    print (\"%d\"% arr[i],end=\" \")\n",
    "\n"
   ]
  },
  {
   "cell_type": "code",
   "execution_count": 4,
   "id": "0e6f2869",
   "metadata": {},
   "outputs": [
    {
     "name": "stdout",
     "output_type": "stream",
     "text": [
      "The Array after splitting is \n",
      "3 4 5 1 2 "
     ]
    }
   ],
   "source": [
    "#Write a Python Program to Split the array and add the first part to the end?\n",
    "def spliting(a,n,position):\n",
    "    for i in range (0,position):\n",
    "        x=a[0]\n",
    "        for j in range (0,n-1):\n",
    "            a[j]=a[j+1]\n",
    "        a[n-1] = x\n",
    "a=[1,2,3,4,5]\n",
    "n=len(a)\n",
    "position=2\n",
    "spliting(a,n,position)\n",
    "print(\"The Array after splitting is \")\n",
    "for i in range (0,n):\n",
    "    print( a[i],end=\" \")"
   ]
  },
  {
   "cell_type": "code",
   "execution_count": 5,
   "id": "0564c55e",
   "metadata": {},
   "outputs": [
    {
     "name": "stdout",
     "output_type": "stream",
     "text": [
      "Enter the number of elements in an array: 4\n",
      "1\n",
      "2\n",
      "3\n",
      "4\n",
      "[1, 2, 3, 4]\n",
      "True\n"
     ]
    }
   ],
   "source": [
    "#Write a Python Program to check if given array is Monotonic?\n",
    "def ismonotonic(arr,n):\n",
    "    return(all(arr[i]<=arr[i+1] for i in range(n-1)) or all(arr[i]>=arr[i+1] for i in range(n-1)))\n",
    "n=int(input(\"Enter the number of elements in an array: \"))\n",
    "arr=[]\n",
    "for i in range(0,n):\n",
    "    numbers=int(input())\n",
    "    arr.append(numbers)\n",
    "print(arr)\n",
    "print(ismonotonic(arr,n))"
   ]
  }
 ],
 "metadata": {
  "kernelspec": {
   "display_name": "Python 3 (ipykernel)",
   "language": "python",
   "name": "python3"
  },
  "language_info": {
   "codemirror_mode": {
    "name": "ipython",
    "version": 3
   },
   "file_extension": ".py",
   "mimetype": "text/x-python",
   "name": "python",
   "nbconvert_exporter": "python",
   "pygments_lexer": "ipython3",
   "version": "3.9.7"
  }
 },
 "nbformat": 4,
 "nbformat_minor": 5
}
