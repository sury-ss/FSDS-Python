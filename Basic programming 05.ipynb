{
 "cells": [
  {
   "cell_type": "code",
   "execution_count": 1,
   "id": "0a0f9ac4",
   "metadata": {},
   "outputs": [
    {
     "name": "stdout",
     "output_type": "stream",
     "text": [
      "3\n",
      "11\n",
      "LCM OF 3 and 11 is 33\n"
     ]
    }
   ],
   "source": [
    "#Write a Python Program to Find LCM?\n",
    "a=int(input())\n",
    "b=int(input())\n",
    "if(a>b):\n",
    "    greater=a\n",
    "    smaller=b\n",
    "else:\n",
    "    greater=b\n",
    "    smaller=a\n",
    "for i in range(smaller,(smaller*greater)+1):\n",
    "    if (i%smaller)==0 and (i%greater)==0:\n",
    "        print(\"LCM OF {} and {} is {}\".format(smaller,greater,i))\n",
    "    "
   ]
  },
  {
   "cell_type": "code",
   "execution_count": 2,
   "id": "bc2b18a5",
   "metadata": {},
   "outputs": [
    {
     "name": "stdout",
     "output_type": "stream",
     "text": [
      "100\n",
      "50\n",
      "The H.C.F. is 50\n"
     ]
    }
   ],
   "source": [
    "# Python program to find H.C.F of two numbers\n",
    "def compute_hcf(x, y):\n",
    "    if x > y:\n",
    "        smaller = y\n",
    "    else:\n",
    "        smaller = x\n",
    "    for i in range(1, smaller+1):\n",
    "        if((x % i == 0) and (y % i == 0)):\n",
    "            hcf = i \n",
    "    return hcf\n",
    "num1 = int(input()) \n",
    "num2 = int(input())\n",
    "print(\"The H.C.F. is\", compute_hcf(num1, num2))\n"
   ]
  },
  {
   "cell_type": "code",
   "execution_count": 3,
   "id": "83fa567e",
   "metadata": {},
   "outputs": [
    {
     "name": "stdout",
     "output_type": "stream",
     "text": [
      "The decimal value of 344 is:\n",
      "0b101011000 in binary.\n",
      "0o530 in octal.\n",
      "0x158 in hexadecimal.\n"
     ]
    }
   ],
   "source": [
    "#Write a Python Program to Convert Decimal to Binary, Octal and Hexadecimal?\n",
    "dec = 344\n",
    "print(\"The decimal value of\", dec, \"is:\")\n",
    "print(bin(dec), \"in binary.\")\n",
    "print(oct(dec), \"in octal.\")\n",
    "print(hex(dec), \"in hexadecimal.\")\n"
   ]
  },
  {
   "cell_type": "code",
   "execution_count": 4,
   "id": "9830f7a5",
   "metadata": {},
   "outputs": [
    {
     "name": "stdout",
     "output_type": "stream",
     "text": [
      "A\n"
     ]
    },
    {
     "data": {
      "text/plain": [
       "65"
      ]
     },
     "execution_count": 4,
     "metadata": {},
     "output_type": "execute_result"
    }
   ],
   "source": [
    "#Write a Python Program To Find ASCII value of a character?\n",
    "a=str(input())\n",
    "ord(a)"
   ]
  },
  {
   "cell_type": "code",
   "execution_count": 5,
   "id": "86e1587c",
   "metadata": {},
   "outputs": [
    {
     "name": "stdout",
     "output_type": "stream",
     "text": [
      "The Operations are: \n",
      "1.Addition\n",
      "2.Subtraction\n",
      "3.Multiplication\n",
      "4.Division\n",
      "Enter the choice:1\n",
      "Enter first number:2\n",
      "Enter the second number:2\n",
      "2 + 2 = 4\n",
      "Let's do next calculation? (yes/no): no\n"
     ]
    }
   ],
   "source": [
    "#Write a Python Program to Make a Simple Calculator with 4 basic mathematical operations?\n",
    "def add(x,y):\n",
    "    return x+y\n",
    "def sub(x,y):\n",
    "    return x-y\n",
    "def mul(x,y):\n",
    "    return x*y\n",
    "def div(x,y):\n",
    "    return x/y\n",
    "print(\"The Operations are: \")\n",
    "print(\"1.Addition\")\n",
    "print(\"2.Subtraction\")\n",
    "print(\"3.Multiplication\")\n",
    "print(\"4.Division\")\n",
    "while(True):\n",
    "    choice=(input(\"Enter the choice:\"))\n",
    "    if(choice in ('1','2','3','4')):\n",
    "        num1=int(input(\"Enter first number:\"))\n",
    "        num2=int(input(\"Enter the second number:\"))\n",
    "        if choice == '1':\n",
    "            print(num1, \"+\", num2, \"=\", add(num1, num2))\n",
    "\n",
    "        elif choice == '2':\n",
    "            print(num1, \"-\", num2, \"=\", sub(num1, num2))\n",
    "\n",
    "        elif choice == '3':\n",
    "            print(num1, \"*\", num2, \"=\", mul(num1, num2))\n",
    "\n",
    "        elif choice == '4':\n",
    "            print(num1, \"/\", num2, \"=\", div(num1, num2))\n",
    "        next_calculation = input(\"Let's do next calculation? (yes/no): \")\n",
    "        if next_calculation == \"no\":\n",
    "            break\n",
    "    else:\n",
    "        print(\"Invalid Input\")     \n",
    "        "
   ]
  }
 ],
 "metadata": {
  "kernelspec": {
   "display_name": "Python 3 (ipykernel)",
   "language": "python",
   "name": "python3"
  },
  "language_info": {
   "codemirror_mode": {
    "name": "ipython",
    "version": 3
   },
   "file_extension": ".py",
   "mimetype": "text/x-python",
   "name": "python",
   "nbconvert_exporter": "python",
   "pygments_lexer": "ipython3",
   "version": "3.9.7"
  }
 },
 "nbformat": 4,
 "nbformat_minor": 5
}
