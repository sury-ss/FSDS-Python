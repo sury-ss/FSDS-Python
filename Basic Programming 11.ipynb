{
 "cells": [
  {
   "cell_type": "code",
   "execution_count": 1,
   "id": "7b294d24",
   "metadata": {},
   "outputs": [
    {
     "name": "stdout",
     "output_type": "stream",
     "text": [
      "Hola\n",
      "Amigo\n"
     ]
    }
   ],
   "source": [
    "#Write a Python program to find words which are greater than given length k?\n",
    "a=\"Hola Amigo !\"\n",
    "k=2\n",
    "l=a.split(\" \")\n",
    "for i in range(0,len(l)):\n",
    "    if (len(l[i])>k):\n",
    "        print(l[i])"
   ]
  },
  {
   "cell_type": "code",
   "execution_count": 2,
   "id": "5e0d8831",
   "metadata": {},
   "outputs": [
    {
     "name": "stdout",
     "output_type": "stream",
     "text": [
      "peekpeeks\n"
     ]
    }
   ],
   "source": [
    "#Write a Python program for removing i-th character from a string?\n",
    "\n",
    "string = \"peekypeeks\"\n",
    "i = 4\n",
    "for j in range(len(string)):\n",
    "    if j == i:\n",
    "        string = string.replace(string[i], \"\", 1)\n",
    "print(string)"
   ]
  },
  {
   "cell_type": "code",
   "execution_count": 3,
   "id": "bafcfb61",
   "metadata": {},
   "outputs": [
    {
     "name": "stdout",
     "output_type": "stream",
     "text": [
      "['Wanda', 'Vision']\n",
      "W$a$n$d$a$ $V$i$s$i$o$n\n"
     ]
    }
   ],
   "source": [
    "#Write a Python program to split and join a string?\n",
    "\n",
    "def spliting(string):\n",
    "    list_string=string.split(\" \")\n",
    "    return list_string\n",
    "def joining(string):\n",
    "    end_string=\"$\".join(string)\n",
    "    return end_string\n",
    "if __name__ == '__main__':\n",
    "    string = \"Wanda Vision\"\n",
    "    print(spliting(string))\n",
    "    print(joining(string))"
   ]
  },
  {
   "cell_type": "code",
   "execution_count": 4,
   "id": "9ad7d246",
   "metadata": {},
   "outputs": [
    {
     "name": "stdout",
     "output_type": "stream",
     "text": [
      "Yes\n"
     ]
    }
   ],
   "source": [
    "#Write a Python to check if a given string is binary string or not?\n",
    "\n",
    "if __name__ == \"__main__\" :\n",
    "    string = \"101010000111\"\n",
    "    if set(string) ==  {'0', '1'} or set(string)  == {'0'} or set(string) == {'1'}:\n",
    "        print(\"Yes\")\n",
    "    else :\n",
    "        print(\"No\")"
   ]
  },
  {
   "cell_type": "code",
   "execution_count": 5,
   "id": "461c8c6f",
   "metadata": {},
   "outputs": [
    {
     "name": "stdout",
     "output_type": "stream",
     "text": [
      " Vision goes for a walk\n"
     ]
    }
   ],
   "source": [
    "#Write a Python program to find uncommon words from two Strings?\n",
    "\n",
    "def uncommon(a,b):\n",
    "    list_a=a.split(\" \")\n",
    "    list_b=b.split(\" \")\n",
    "    uc=''\n",
    "    for i in list_a:\n",
    "        if i not in list_b:\n",
    "            uc = uc+\" \"+i\n",
    "    for j in list_b:\n",
    "        if j not in list_a:\n",
    "            uc = uc+\" \"+j\n",
    "    return uc\n",
    "        \n",
    "A = \"Wanda Vision\" \n",
    "B = \"Wanda goes for a walk\"\n",
    "print(uncommon(A,B))"
   ]
  },
  {
   "cell_type": "code",
   "execution_count": 6,
   "id": "8b845947",
   "metadata": {},
   "outputs": [
    {
     "name": "stdout",
     "output_type": "stream",
     "text": [
      "n a i\n"
     ]
    }
   ],
   "source": [
    "#Write a Python to find all duplicate characters in string?\n",
    "\n",
    "a=\"wandavision\"\n",
    "d=[]\n",
    "for i in a:\n",
    "    if(a.count(i)>1):\n",
    "        d.append(i)\n",
    "print(*set(d))"
   ]
  },
  {
   "cell_type": "code",
   "execution_count": 7,
   "id": "cf15e198",
   "metadata": {},
   "outputs": [
    {
     "name": "stdout",
     "output_type": "stream",
     "text": [
      "Enter the string: fc#k\n",
      "Not accepted\n"
     ]
    }
   ],
   "source": [
    "#Write a Python Program to check if a string contains any special character?\n",
    "import re\n",
    "a=input(\"Enter the string: \")\n",
    "pattern=re.compile('[@_!#$%^&*()<>?/\\|}{~:]')\n",
    "if(pattern.search(a)==None):\n",
    "    print(\"String is Accepted\")\n",
    "else:\n",
    "    print(\"Not accepted\")"
   ]
  }
 ],
 "metadata": {
  "kernelspec": {
   "display_name": "Python 3 (ipykernel)",
   "language": "python",
   "name": "python3"
  },
  "language_info": {
   "codemirror_mode": {
    "name": "ipython",
    "version": 3
   },
   "file_extension": ".py",
   "mimetype": "text/x-python",
   "name": "python",
   "nbconvert_exporter": "python",
   "pygments_lexer": "ipython3",
   "version": "3.9.7"
  }
 },
 "nbformat": 4,
 "nbformat_minor": 5
}
