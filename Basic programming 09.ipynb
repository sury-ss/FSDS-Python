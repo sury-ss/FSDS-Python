{
 "cells": [
  {
   "cell_type": "code",
   "execution_count": 1,
   "id": "2622945d",
   "metadata": {},
   "outputs": [
    {
     "name": "stdout",
     "output_type": "stream",
     "text": [
      "175\n",
      "Disarium Number!\n"
     ]
    }
   ],
   "source": [
    "#Write a Python program to check if the given number is a Disarium Number?\n",
    "def isdisarium(n):\n",
    "    l=len(str(n))\n",
    "    res=0\n",
    "    while(n>0):\n",
    "        a = n%10\n",
    "        res+=pow(a,l)\n",
    "        n//=10\n",
    "        l-=1\n",
    "    return res       \n",
    "        \n",
    "n = int(input())\n",
    "if isdisarium(n)==n:\n",
    "    print(\"Disarium Number!\")\n",
    "else:\n",
    "    print(\"Not a Disarium Number!\")"
   ]
  },
  {
   "cell_type": "code",
   "execution_count": 2,
   "id": "2a7f5181",
   "metadata": {},
   "outputs": [
    {
     "name": "stdout",
     "output_type": "stream",
     "text": [
      "1 2 3 4 5 6 7 8 9 89 "
     ]
    }
   ],
   "source": [
    "#Write a Python program to print all disarium numbers between 1 to 100?\n",
    "def isdisarium(n):\n",
    "    l=len(str(n))\n",
    "    res=0\n",
    "    while(n>0):\n",
    "        a = n%10\n",
    "        res+=pow(a,l)\n",
    "        n//=10\n",
    "        l-=1\n",
    "    return res     \n",
    "\n",
    "for i in range(1,101):\n",
    "    if i==isdisarium(i):  \n",
    "        print(i,end=' ')     "
   ]
  },
  {
   "cell_type": "code",
   "execution_count": 3,
   "id": "abe1b5c9",
   "metadata": {},
   "outputs": [
    {
     "name": "stdout",
     "output_type": "stream",
     "text": [
      "49\n",
      "Happy Number\n"
     ]
    }
   ],
   "source": [
    "#Write a Python program to check if the given number is Happy Number?\n",
    "def isHappyNumber(num):\n",
    "    r=0\n",
    "    sum=0\n",
    "    while(num!=0):\n",
    "        r=num%10\n",
    "        sum=sum+(r*r)\n",
    "        num=num//10\n",
    "    if sum==1:\n",
    "        return True\n",
    "    elif sum==4:\n",
    "        return False\n",
    "    else:\n",
    "        return isHappyNumber(sum)\n",
    "  \n",
    "n=int(input())\n",
    "if isHappyNumber(n):\n",
    "    print('Happy Number')\n",
    "else:\n",
    "    print('Not Happy Number')"
   ]
  },
  {
   "cell_type": "code",
   "execution_count": 4,
   "id": "15fb13f0",
   "metadata": {},
   "outputs": [
    {
     "name": "stdout",
     "output_type": "stream",
     "text": [
      "1 7 10 13 19 23 28 31 32 44 49 68 70 79 82 86 91 94 97 100 "
     ]
    }
   ],
   "source": [
    "#Write a Python program to print all happy numbers between 1 and 100?\n",
    "\n",
    "def isHappyNumber(num):\n",
    "    r=0\n",
    "    sum=0\n",
    "    while(num!=0):\n",
    "        r=num%10\n",
    "        sum=sum+(r*r)\n",
    "        num=num//10\n",
    "    if sum==1:\n",
    "        return True\n",
    "    elif sum==4:\n",
    "        return False\n",
    "    else:\n",
    "        return isHappyNumber(sum)\n",
    "    \n",
    "for i in range(1,101):\n",
    "      if isHappyNumber(i):\n",
    "            print(i, end=' ')"
   ]
  },
  {
   "cell_type": "code",
   "execution_count": 5,
   "id": "7e0159e9",
   "metadata": {},
   "outputs": [
    {
     "name": "stdout",
     "output_type": "stream",
     "text": [
      "21\n",
      "Harshad Number\n"
     ]
    }
   ],
   "source": [
    "#Write a Python program to determine whether the given number is a Harshad Number?\n",
    "a=int(input())\n",
    "num=a\n",
    "sum=0\n",
    "while(num!=0):\n",
    "    r=num%10\n",
    "    sum=sum+r\n",
    "    num=num//10\n",
    "if(a%sum==0):\n",
    "    print(\"Harshad Number\")\n",
    "else:\n",
    "    print(\"Not a Harshad Number\")    "
   ]
  },
  {
   "cell_type": "code",
   "execution_count": 6,
   "id": "4c883930",
   "metadata": {},
   "outputs": [
    {
     "name": "stdout",
     "output_type": "stream",
     "text": [
      "2 6 12 20 30 42 56 72 90 "
     ]
    }
   ],
   "source": [
    "#Write a Python program to print all pronic numbers between 1 and 100?\n",
    "def isPronicNumber(num):    \n",
    "    flag = False;       \n",
    "    for j in range(1, num+1):    \n",
    "        if((j*(j+1)) == num):    \n",
    "            flag = True;   \n",
    "            break    \n",
    "    return flag      \n",
    "\n",
    "for i in range(1, 101):    \n",
    "    if(isPronicNumber(i)):    \n",
    "        print(i,end=' ')            "
   ]
  }
 ],
 "metadata": {
  "kernelspec": {
   "display_name": "Python 3 (ipykernel)",
   "language": "python",
   "name": "python3"
  },
  "language_info": {
   "codemirror_mode": {
    "name": "ipython",
    "version": 3
   },
   "file_extension": ".py",
   "mimetype": "text/x-python",
   "name": "python",
   "nbconvert_exporter": "python",
   "pygments_lexer": "ipython3",
   "version": "3.9.7"
  }
 },
 "nbformat": 4,
 "nbformat_minor": 5
}
